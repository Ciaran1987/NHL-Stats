{
 "cells": [
  {
   "cell_type": "code",
   "execution_count": 47,
   "metadata": {},
   "outputs": [],
   "source": [
    "import requests\n",
    "import pandas as pd\n",
    "import json\n",
    "import numpy\n",
    "from pandas.io.json import json_normalize"
   ]
  },
  {
   "cell_type": "code",
   "execution_count": 48,
   "metadata": {},
   "outputs": [],
   "source": [
    "#Get single game data point\n",
    "def get_boxscore(game_id):\n",
    "    endpoint = 'https://statsapi.web.nhl.com/api/v1/game/'+str(game_id)+'/boxscore'\n",
    "    #create json object from GET call\n",
    "    response = requests.get(endpoint).json()\n",
    "    #extract away & home team game stats to df\n",
    "    #create additional columns in df's for home/away, game id and win/loss\n",
    "    away_stats = pd.DataFrame(response['teams']['away']['teamStats']['teamSkaterStats'],index=[0])\n",
    "    away_stats['Team ID'] = response['teams']['away']['team']['id']\n",
    "    away_stats['Home'] = 0\n",
    "    away_stats['Game ID'] = game_id\n",
    "    home_stats = pd.DataFrame(response['teams']['home']['teamStats']['teamSkaterStats'],index=[0])\n",
    "    home_stats['Team ID'] = response['teams']['home']['team']['id']\n",
    "    home_stats['Home'] = 1\n",
    "    home_stats['Game ID'] = game_id\n",
    "    if home_stats['goals'][0] > away_stats['goals'][0]:\n",
    "        home_stats['Win'] = 1\n",
    "        away_stats['Win'] = 0\n",
    "    else:\n",
    "        home_stats['Win'] = 0\n",
    "        away_stats['Win'] = 1\n",
    "    #concatenate dataframes\n",
    "    box_score = pd.concat([home_stats,away_stats],ignore_index=True)\n",
    "    return box_score\n",
    "\n",
    "def get_teams():\n",
    "    #Returns all teams info, will be used to give names to team id's from box scores\n",
    "    #further info https://gitlab.com/dword4/nhlapi/blob/master/stats-api.md#teams\n",
    "    endpoint = 'https://statsapi.web.nhl.com/api/v1/teams'\n",
    "    #create json object from GET call\n",
    "    response = requests.get(endpoint).json()\n",
    "    response = pd.DataFrame(response['teams'])\n",
    "    #cast id column as string\n",
    "    response = response.astype({'id':'str'})\n",
    "    #other info is available we only need ID and Name fields\n",
    "    return response[['id','name']]\n",
    "\n",
    "def box_score_scrape(year):\n",
    "    #creates dynamic endpoints to return data on game id's sequentially\n",
    "    #create df object with relevant column names\n",
    "    box_score_data = pd.DataFrame(columns=['goals', 'pim', 'shots', 'powerPlayPercentage', 'powerPlayGoals',\n",
    "       'powerPlayOpportunities', 'faceOffWinPercentage', 'blocked',\n",
    "       'takeaways', 'giveaways', 'hits', 'Team ID', 'Home', 'Game ID', 'Win'])\n",
    "    #Game Id information available: https://gitlab.com/dword4/nhlapi/blob/master/stats-api.md#game-ids\n",
    "    #Number of games in season is 370 prior to 2017\n",
    "    game_num =371\n",
    "    if year < 2017:\n",
    "        game_num = 370\n",
    "    #scraping regular season only \n",
    "    season = '02'\n",
    "    for x in range(1,game_num + 1):          \n",
    "        game_id = str(year)+season+str(x).zfill(4)\n",
    "        new_boxscore = get_boxscore(game_id)\n",
    "        box_score_data = box_score_data.append([new_boxscore],ignore_index=True)\n",
    "    #cast all relevant columns as integer, float and string\n",
    "    box_score_data = box_score_data.astype({'powerPlayPercentage':'float64','faceOffWinPercentage':'float64',\n",
    "                                         'goals':'int64', 'pim':'int64', 'shots':'int64', 'powerPlayGoals':'int64', \n",
    "                                         'powerPlayOpportunities':'int64', 'blocked':'int64', 'takeaways':'int64', \n",
    "                                         'giveaways':'int64', 'hits':'int64', 'Team ID':'str', 'Home':'int64', \n",
    "                                         'Game ID':'str', 'Win':'int64'})\n",
    "    return box_score_data\n",
    "\n",
    "#Get game feed\n",
    "def get_feed_live(game_id):\n",
    "    endpoint = 'https://statsapi.web.nhl.com/api/v1/game/'+str(game_id)+'/feed/live'\n",
    "    #create json object from GET call\n",
    "    response = requests.get(endpoint).json()\n",
    "    #flatten json response\n",
    "    play_result = json_normalize(response['liveData']['plays']['allPlays'])\n",
    "    if 'result.eventTypeId' not in play_result:\n",
    "        print('No events in '+str(game_id))\n",
    "        return\n",
    "    #retain required fields\n",
    "    play_result = play_result[['result.eventTypeId','team.id']]\n",
    "    #filter df to retun only shot related events\n",
    "    play_result = play_result[play_result['result.eventTypeId'].str.contains('SHOT')]\n",
    "    #add count column\n",
    "    play_result['count']=1\n",
    "    #pivot play_result to events in columns and aggregation of counts\n",
    "    play_result = play_result.pivot_table(values='count',index = ['team.id'], columns = 'result.eventTypeId',aggfunc='sum')\n",
    "    #reset index to flatten pivot table\n",
    "    play_result.reset_index(inplace=True)\n",
    "    #add game id column\n",
    "    play_result['Game Id'] = response['gameData']['game']['pk']\n",
    "    #drop BLOCKED_SHOT and SHOT as info already contained in box_score_data\n",
    "    play_result.drop(['BLOCKED_SHOT','SHOT'],axis=1,inplace=True)\n",
    "    return play_result\n",
    "\n",
    "def feed_live_scrape(year):\n",
    "    #creates dynamic endpoints to return data on game id's sequentially\n",
    "    #create df object with relevant column names\n",
    "    feed_live_data = pd.DataFrame(columns=['team.id','MISSED_SHOT','Game Id'])\n",
    "    #Game Id information available: https://gitlab.com/dword4/nhlapi/blob/master/stats-api.md#game-ids\n",
    "    #Number of games in season is 370 prior to 2017\n",
    "    game_num = 371\n",
    "    if year < 2017:\n",
    "        game_num = 370\n",
    "    #scraping regular season only \n",
    "    season = '02'\n",
    "    #loop thorugh game id's, call get_feed_live function, append result to feed_live_data df\n",
    "    for x in range(1,game_num + 1):    \n",
    "        game_id = str(year)+season+str(x).zfill(4)\n",
    "        new_feed_live = get_feed_live(game_id)\n",
    "        #check if get_feed_live returned anything\n",
    "        if not new_feed_live is None:\n",
    "            feed_live_data = feed_live_data.append([new_feed_live],ignore_index=True)\n",
    "            #replace team id NaN with 0\n",
    "            feed_live_data['team.id'].fillna(0, inplace=True)\n",
    "            #cast team id as int to remove decimal place\n",
    "            feed_live_data = feed_live_data.astype({'team.id':'int64'})\n",
    "            #cast Game Id and team.id columns as string\n",
    "            feed_live_data = feed_live_data.astype({'team.id':'str','Game Id':'str'})\n",
    "    return feed_live_data"
   ]
  },
  {
   "cell_type": "markdown",
   "metadata": {},
   "source": [
    "Run API calls to extract required data from API"
   ]
  },
  {
   "cell_type": "code",
   "execution_count": 49,
   "metadata": {},
   "outputs": [],
   "source": [
    "#create box_scores df with call box_score_scrape function \n",
    "box_scores = box_score_scrape(2017)"
   ]
  },
  {
   "cell_type": "code",
   "execution_count": 50,
   "metadata": {},
   "outputs": [],
   "source": [
    "#create teams df \n",
    "teams = get_teams()"
   ]
  },
  {
   "cell_type": "code",
   "execution_count": 51,
   "metadata": {},
   "outputs": [
    {
     "name": "stdout",
     "output_type": "stream",
     "text": [
      "No events in 2017020018\n",
      "No events in 2017020034\n",
      "No events in 2017020196\n",
      "No events in 2017020199\n",
      "No events in 2017020209\n",
      "No events in 2017020262\n",
      "No events in 2017020309\n",
      "No events in 2017020318\n"
     ]
    }
   ],
   "source": [
    "#create missed shots df\n",
    "missed_shots = feed_live_scrape(2017)"
   ]
  },
  {
   "cell_type": "code",
   "execution_count": 52,
   "metadata": {},
   "outputs": [],
   "source": [
    "#merge team df and box_score df to match team names\n",
    "box_scores = pd.merge(box_scores, teams, how = 'inner', left_on = 'Team ID', right_on = 'id')\n",
    "#Drop superfluous 'id' column\n",
    "#box_scores.drop('id',axis=1,inplace=True)"
   ]
  },
  {
   "cell_type": "code",
   "execution_count": 53,
   "metadata": {},
   "outputs": [],
   "source": [
    "#Drop superfluous 'id' column\n",
    "box_scores.drop('id',axis=1,inplace=True)"
   ]
  },
  {
   "cell_type": "code",
   "execution_count": 54,
   "metadata": {},
   "outputs": [
    {
     "name": "stderr",
     "output_type": "stream",
     "text": [
      "C:\\Users\\CiaranCarroll\\Anaconda3\\lib\\site-packages\\ipykernel_launcher.py:3: SettingWithCopyWarning: \n",
      "A value is trying to be set on a copy of a slice from a DataFrame.\n",
      "Try using .loc[row_indexer,col_indexer] = value instead\n",
      "\n",
      "See the caveats in the documentation: http://pandas.pydata.org/pandas-docs/stable/indexing.html#indexing-view-versus-copy\n",
      "  This is separate from the ipykernel package so we can avoid doing imports until\n"
     ]
    }
   ],
   "source": [
    "#create df of blocked shots, invert home/away identifiers and merge with box score data \n",
    "shots_blocked = box_scores[['Game ID','Home','blocked']]\n",
    "shots_blocked['Home']=shots_blocked['Home'].apply(lambda x: (x*-1)+1)\n",
    "#rename blocked column to shot_blocked\n",
    "shots_blocked = shots_blocked.rename(columns={'blocked':'shots_blocked'})\n",
    "#merge shots_blocked df with box_score\n",
    "box_scores = pd.merge(box_scores, shots_blocked, how = 'inner', left_on = ['Game ID','Home'], right_on = ['Game ID','Home'])"
   ]
  },
  {
   "cell_type": "code",
   "execution_count": 55,
   "metadata": {},
   "outputs": [],
   "source": [
    "#merge missed shots df and box_score df \n",
    "box_scores = pd.merge(box_scores, missed_shots, how = 'left', left_on = ['Game ID','Team ID'], right_on = ['Game Id','team.id'])\n",
    "#Drop dupicate columns\n",
    "box_scores.drop(['Game Id','team.id'],axis=1,inplace=True)"
   ]
  },
  {
   "cell_type": "code",
   "execution_count": 69,
   "metadata": {},
   "outputs": [],
   "source": [
    "#replace any NAs in MISSED_SHOT with 0\n",
    "box_scores['MISSED_SHOT'].fillna(0,inplace=True)\n",
    "#add total shots column\n",
    "box_scores['Total Shots']=box_scores['MISSED_SHOT']+box_scores['shots_blocked']+box_scores['shots']"
   ]
  },
  {
   "cell_type": "code",
   "execution_count": 71,
   "metadata": {},
   "outputs": [],
   "source": [
    "#write df to CSV\n",
    "box_scores.to_csv('box_scores.csv')"
   ]
  },
  {
   "cell_type": "code",
   "execution_count": null,
   "metadata": {},
   "outputs": [],
   "source": []
  },
  {
   "cell_type": "code",
   "execution_count": null,
   "metadata": {},
   "outputs": [],
   "source": []
  },
  {
   "cell_type": "code",
   "execution_count": null,
   "metadata": {},
   "outputs": [],
   "source": []
  },
  {
   "cell_type": "code",
   "execution_count": null,
   "metadata": {},
   "outputs": [],
   "source": []
  },
  {
   "cell_type": "code",
   "execution_count": null,
   "metadata": {},
   "outputs": [],
   "source": []
  },
  {
   "cell_type": "code",
   "execution_count": null,
   "metadata": {},
   "outputs": [],
   "source": []
  }
 ],
 "metadata": {
  "kernelspec": {
   "display_name": "Python 3",
   "language": "python",
   "name": "python3"
  },
  "language_info": {
   "codemirror_mode": {
    "name": "ipython",
    "version": 3
   },
   "file_extension": ".py",
   "mimetype": "text/x-python",
   "name": "python",
   "nbconvert_exporter": "python",
   "pygments_lexer": "ipython3",
   "version": "3.6.5"
  }
 },
 "nbformat": 4,
 "nbformat_minor": 2
}
